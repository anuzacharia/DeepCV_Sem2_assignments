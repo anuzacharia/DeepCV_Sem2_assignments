{
  "nbformat": 4,
  "nbformat_minor": 0,
  "metadata": {
    "colab": {
      "provenance": []
    },
    "kernelspec": {
      "name": "python3",
      "display_name": "Python 3"
    },
    "language_info": {
      "name": "python"
    }
  },
  "cells": [
    {
      "cell_type": "code",
      "execution_count": 45,
      "metadata": {
        "id": "iwg_jo4qdO3s"
      },
      "outputs": [],
      "source": [
        "import numpy as np\n",
        "import random\n",
        "import copy\n",
        "def activation(x):\n",
        "    return np.where(x < 0.5, 0, 1)\n",
        "def mlp(X, y, w1, b1, w2, b2):\n",
        "    # Forward propagation\n",
        "    z1 = np.dot(X, w1) + b1\n",
        "    a1 = activation(z1)\n",
        "    z2 = np.dot(a1, w2) + b2\n",
        "    y_pred = activation(z2)\n",
        "    \n",
        "    # Calculate the loss (mean squared error)\n",
        "    mse = np.mean((y - y_pred) ** 2)\n",
        "    \n",
        "    return mse\n",
        "\n"
      ]
    },
    {
      "cell_type": "code",
      "source": [
        "class PSO:\n",
        "    def __init__(self, n_particles, dimensions, max_iterations, c1, c2, w, X, y):\n",
        "        self.n_particles = n_particles\n",
        "        self.dimensions = dimensions\n",
        "        self.max_iterations = max_iterations\n",
        "        self.c1 = c1\n",
        "        self.c2 = c2\n",
        "        self.w = w\n",
        "        self.X = X\n",
        "        self.y = y\n",
        "        self.particles = []\n",
        "        self.velocities = []\n",
        "        self.personal_bests = []\n",
        "        self.global_best = None\n",
        "        self.global_best_fitness = float('inf')\n",
        "        \n",
        "        # Initialize particles and velocities\n",
        "        for i in range(self.n_particles):\n",
        "            particle = np.random.uniform(-1, 1, self.dimensions)\n",
        "            velocity = np.zeros(self.dimensions)\n",
        "            self.particles.append(particle)\n",
        "            self.velocities.append(velocity)\n",
        "            fitness = mlp(self.X, self.y, particle[0:6].reshape(2, 3), particle[6:9].reshape(1, 3), particle[9:12].reshape(3, 1), particle[12:13].reshape(1, 1))\n",
        "            self.personal_bests.append((particle, fitness))\n",
        "            \n",
        "            if fitness < self.global_best_fitness:\n",
        "                self.global_best = particle\n",
        "                self.global_best_fitness = fitness\n",
        "                \n",
        "    def update(self):\n",
        "        for i in range(self.n_particles):\n",
        "            # Update velocity\n",
        "            r1 = np.random.uniform(0, 1, self.dimensions)\n",
        "            r2 = np.random.uniform(0, 1, self.dimensions)\n",
        "            self.velocities[i] = self.w * self.velocities[i] + self.c1 * r1 * (self.personal_bests[i][0] - self.particles[i]) + self.c2 * r2 * (self.global_best - self.particles[i])\n",
        "            \n",
        "            # Update particle\n",
        "            self.particles[i] = self.particles[i] + self.velocities[i]\n",
        "            \n",
        "            # Clip particle values to [-1, 1]\n",
        "            self.particles[i] = np.clip(self.particles[i], -1, 1)\n",
        "            \n",
        "            # Calculate fitness\n",
        "            fitness = mlp(self.X, self.y, self.particles[i][0:6].reshape(2, 3), self.particles[i][6:9].reshape(1, 3), self.particles[i][9:12].reshape(3, 1), self.particles[i][12:13].reshape(1, 1))\n",
        "                    # Update personal best\n",
        "        if fitness < self.personal_bests[i][1]:\n",
        "            self.personal_bests[i] = (self.particles[i], fitness)\n",
        "            \n",
        "            # Update global best\n",
        "            if fitness < self.global_best_fitness:\n",
        "                self.global_best = self.particles[i]\n",
        "                self.global_best_fitness = fitness\n",
        "                \n",
        "    def train(self):\n",
        "      for i in range(self.max_iterations):\n",
        "        self.update()\n",
        "      #print(self.global_best)  \n",
        "      # Return the global best particle and its fitness\n",
        "      return self.global_best, self.global_best_fitness\n"
      ],
      "metadata": {
        "id": "ac4cLK8NdsAI"
      },
      "execution_count": 46,
      "outputs": []
    },
    {
      "cell_type": "code",
      "source": [
        "# Input data\n",
        "X = np.array([[0, 0], [0, 1], [1, 0], [1, 1]])\n",
        "# Target output\n",
        "y = np.array([[0], [1], [1], [0]])\n",
        "\n",
        "# PSO hyperparameters\n",
        "n_particles = 50\n",
        "dimensions = 13\n",
        "max_iterations = 1000\n",
        "w = 0.45\n",
        "c1 = 1.4\n",
        "c2 = 1.3\n",
        "\n",
        "# Train MLP using PSO\n",
        "pso = PSO(n_particles, dimensions, max_iterations, c1, c2, w, X, y)\n",
        "best_particle, best_fitness = pso.train()\n",
        "\n",
        "# Extract MLP weights and biases from best particle\n",
        "w1 = best_particle[0:6].reshape(2, 3)\n",
        "b1 = best_particle[6:9].reshape(1, 3)\n",
        "w2 = best_particle[9:12].reshape(3, 1)\n",
        "b2 = best_particle[12:13].reshape(1, 1)\n",
        "\n",
        "# Test MLP on input data\n",
        "z1 = np.dot(X, w1) + b1\n",
        "a1 = activation(z1)\n",
        "z2 = np.dot(a1, w2) + b2\n",
        "y_pred = activation(z2)\n",
        "\n",
        "# Print predicted output\n",
        "print(y_pred)\n"
      ],
      "metadata": {
        "colab": {
          "base_uri": "https://localhost:8080/"
        },
        "id": "hwdq1CTXdd4M",
        "outputId": "fad89c75-c8e3-40ea-9bbe-030b6ce960ec"
      },
      "execution_count": 50,
      "outputs": [
        {
          "output_type": "stream",
          "name": "stdout",
          "text": [
            "[[0]\n",
            " [1]\n",
            " [1]\n",
            " [0]]\n"
          ]
        }
      ]
    }
  ]
}